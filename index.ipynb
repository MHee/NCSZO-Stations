{
 "cells": [
  {
   "cell_type": "markdown",
   "metadata": {},
   "source": [
    "# Welcome to an example Binder"
   ]
  },
  {
   "cell_type": "markdown",
   "metadata": {},
   "source": [
    "This notebook uses `seaborn`, which we have because we included it in our `requirements.txt` file"
   ]
  },
  {
   "cell_type": "markdown",
   "metadata": {},
   "source": [
    "## Setup our plotting"
   ]
  },
  {
   "cell_type": "code",
   "execution_count": 1,
   "metadata": {},
   "outputs": [],
   "source": [
    "%matplotlib inline\n",
    "import matplotlib.pyplot as plt\n",
    "import seaborn as sns"
   ]
  },
  {
   "cell_type": "markdown",
   "metadata": {},
   "source": [
    "## Setup our imports"
   ]
  },
  {
   "cell_type": "code",
   "execution_count": 2,
   "metadata": {},
   "outputs": [],
   "source": [
    "from pyproj import Geod\n",
    "import geojson\n",
    "import requests"
   ]
  },
  {
   "cell_type": "code",
   "execution_count": 37,
   "metadata": {},
   "outputs": [],
   "source": [
    "def getElevation(lon, lat):\n",
    "    params = {'latitude' : lat, 'longitude' : lon, 'format' : 'json'} # geojson | text/plain\n",
    "    url = 'https://www.gmrt.org/services/PointServer'\n",
    "    resp = requests.get(url, params = params)\n",
    "    return float(resp.json()['elevation'])"
   ]
  },
  {
   "cell_type": "code",
   "execution_count": 33,
   "metadata": {},
   "outputs": [
    {
     "name": "stdout",
     "output_type": "stream",
     "text": [
      "{\"longitude\":\"-126.872152\",\"latitude\":\"48.699937\",\"elevation\":\"-1316\"}\n"
     ]
    }
   ],
   "source": [
    "print(resp.text)"
   ]
  },
  {
   "cell_type": "markdown",
   "metadata": {},
   "source": [
    "## Setup pyproj\n",
    "[see](http://pyproj4.github.io/pyproj/html/api/geod.html)\n"
   ]
  },
  {
   "cell_type": "code",
   "execution_count": 77,
   "metadata": {},
   "outputs": [],
   "source": [
    "g = Geod(ellps='WGS84')"
   ]
  },
  {
   "cell_type": "markdown",
   "metadata": {},
   "source": [
    "## Plate motion\n",
    "First order plate motions can be computed using the [euler_pole](https://github.com/joferkington/euler_pole) Python package and the poles found in [Kreemer et al., 2014](https://agupubs.onlinelibrary.wiley.com/doi/full/10.1002/2014GC005407).\n",
    "\n",
    "The results are similar but not identical to the UNAVCO plate calculator."
   ]
  },
  {
   "cell_type": "code",
   "execution_count": 5,
   "metadata": {},
   "outputs": [],
   "source": [
    "from euler_poles import EulerPole"
   ]
  },
  {
   "cell_type": "code",
   "execution_count": 11,
   "metadata": {},
   "outputs": [
    {
     "name": "stdout",
     "output_type": "stream",
     "text": [
      "(33.057235679410034, 26.116788007650868, 2.713542284593533)\n",
      "(51.689587033662825, 42.2164749633471)\n"
     ]
    }
   ],
   "source": [
    "JF_PA = EulerPole(lat=-0.60, lon=37.80, rate=0.625)\n",
    "NA_PA = EulerPole(lat=49.30, lon=-76.01, rate=0.791)\n",
    "JF = JF_PA - NA_PA\n",
    "print(JF.velocity_components(lat=48.6999,lon=-126.8722))\n",
    "print(JF.velocity(lat=48.6999,lon=-126.8722))\n",
    "#32.65   26.09\n",
    "#41.79\t51.37°\n",
    "#41.78\t51.37°"
   ]
  },
  {
   "cell_type": "code",
   "execution_count": 94,
   "metadata": {},
   "outputs": [],
   "source": [
    "class Site():\n",
    "    def __init__(self,name, lon, lat, elev = None):\n",
    "        self.name = name\n",
    "        self.lon = lon\n",
    "        self.lat = lat\n",
    "        if not elev == None:\n",
    "            self.elev = elev\n",
    "        else:\n",
    "            self.elev = getElevation(self.lon, self.lat)\n",
    "    \n",
    "    def __str__(self):\n",
    "        return '%s -- lon: %f, lat: %f, elev %f' % (self.name, self.lon, self.lat, self.elev)\n",
    "    \n",
    "    def __repr__(self):\n",
    "        return self.__str__()\n",
    "    \n",
    "    \n",
    "    def velocity_components(self):\n",
    "        return JF.velocity_components(lon = self.lon, lat = self.lat)\n",
    "    \n",
    "    def velocity(self):\n",
    "        return JF.velocity(lon = self.lon, lat = self.lat)\n",
    "            \n",
    "            \n",
    "s = Site('CORK 1364A', lon = -126.872152,lat = 48.699937)        "
   ]
  },
  {
   "cell_type": "code",
   "execution_count": 95,
   "metadata": {},
   "outputs": [],
   "source": [
    "refSites = [s,]\n",
    "for i in range(1, 6):\n",
    "    az,v = s.velocity()\n",
    "    lon,lat,_ = g.fwd(s.lon,s.lat, az-90., 20e3)\n",
    "    s = Site('Along %d km' % (20*i), lon = lon,lat = lat)\n",
    "    refSites.append(s)\n",
    "\n",
    "s = refSites[0]\n",
    "for i in range(1, 6):\n",
    "    az,v = s.velocity()\n",
    "    lon,lat,_ = g.fwd(s.lon,s.lat, az-90., -20e3)\n",
    "    s = Site('Along %d km' % (-20*i), lon = lon,lat = lat)\n",
    "    refSites.append(s)\n"
   ]
  },
  {
   "cell_type": "code",
   "execution_count": 98,
   "metadata": {},
   "outputs": [
    {
     "data": {
      "text/plain": [
       "[Along -100 km -- lon: -126.041561, lat: 47.991273, elev -1530.000000,\n",
       " Along -80 km -- lon: -126.205851, lat: 48.133487, elev -1748.000000,\n",
       " Along -60 km -- lon: -126.371046, lat: 48.275463, elev -2058.000000,\n",
       " Along -40 km -- lon: -126.537156, lat: 48.417199, elev -1507.000000,\n",
       " Along -20 km -- lon: -126.704189, lat: 48.558691, elev -1538.000000,\n",
       " CORK 1364A -- lon: -126.872152, lat: 48.699937, elev -1316.000000,\n",
       " Along 20 km -- lon: -127.041057, lat: 48.840934, elev -1859.000000,\n",
       " Along 40 km -- lon: -127.210909, lat: 48.981679, elev -2066.000000,\n",
       " Along 60 km -- lon: -127.381717, lat: 49.122172, elev -1931.000000,\n",
       " Along 80 km -- lon: -127.553489, lat: 49.262408, elev -1847.000000,\n",
       " Along 100 km -- lon: -127.726234, lat: 49.402385, elev -1756.000000]"
      ]
     },
     "execution_count": 98,
     "metadata": {},
     "output_type": "execute_result"
    }
   ],
   "source": [
    "sorted(refSites, key=lambda x: x.lat)"
   ]
  },
  {
   "cell_type": "markdown",
   "metadata": {},
   "source": [
    "# Plate motion\n",
    "Plate motions are calculated using [UNAVCO Plate Motion Calculator](https://www.unavco.org/software/geodetic-utilities/plate-motion-calculator/plate-motion-calculator.html)\n",
    "\n",
    "Input coordinates:\n",
    "\n",
    "    -127.157 48.25721 -2500 #1,\n",
    "    -127.639 48.79599 -2500 #8,\n",
    "    -126.8722 48.6999 1200 CORK 1364A,\n",
    "    -126.1733 48.4278 400 BC-US,\n",
    "    -125.8918 49.2267 0 CQS-Shore,\n",
    "    -127.345 48.90984 -1200 #9\n",
    "\n",
    "* Model GSRM 2.1 (2014)\n",
    "* Plate motion (JdF)\n",
    "* Relative to NA\n",
    "\n",
    "Results:\n",
    "\n",
    "    -127.157000  48.257210   31.61   26.59 0 0 0 JF(NA) GSRM v2.1 #1\n",
    "    -127.639000  48.795990   32.56   27.45 0 0 0 JF(NA) GSRM v2.1 #8\n",
    "    -126.872200  48.699900   32.65   26.09 0 0 0 JF(NA) GSRM v2.1 CORK 1364A\n",
    "    -126.173300  48.427800   32.31   24.83 0 0 0 JF(NA) GSRM v2.1 BC-US\n",
    "    -125.891800  49.226700   34.06   24.32 0 0 0 JF(NA) GSRM v2.1 CQS-Shore\n",
    "    -127.345000  48.909840   32.91   26.93 0 0 0 JF(NA) GSRM v2.1 #9\n",
    "\n",
    "\n"
   ]
  },
  {
   "cell_type": "code",
   "execution_count": 191,
   "metadata": {},
   "outputs": [
    {
     "ename": "TypeError",
     "evalue": "fwd() missing 4 required positional arguments: 'lons', 'lats', 'az', and 'dist'",
     "output_type": "error",
     "traceback": [
      "\u001b[1;31m---------------------------------------------------------------------------\u001b[0m",
      "\u001b[1;31mTypeError\u001b[0m                                 Traceback (most recent call last)",
      "\u001b[1;32m<ipython-input-191-414348f37223>\u001b[0m in \u001b[0;36m<module>\u001b[1;34m\u001b[0m\n\u001b[1;32m----> 1\u001b[1;33m \u001b[0mn_start\u001b[0m \u001b[1;33m=\u001b[0m \u001b[0mg\u001b[0m\u001b[1;33m.\u001b[0m\u001b[0mfwd\u001b[0m\u001b[1;33m(\u001b[0m\u001b[1;33m)\u001b[0m\u001b[1;33m\u001b[0m\u001b[1;33m\u001b[0m\u001b[0m\n\u001b[0m",
      "\u001b[1;31mTypeError\u001b[0m: fwd() missing 4 required positional arguments: 'lons', 'lats', 'az', and 'dist'"
     ]
    }
   ],
   "source": [
    "n_start = g.fwd()"
   ]
  },
  {
   "cell_type": "markdown",
   "metadata": {},
   "source": [
    "## JdF Plate depth contours\n",
    "https://pubs.usgs.gov/ds/91/\n",
    "https://pubs.usgs.gov/ds/91/4_DATA/ASCII_GIS_DATA/slab_contours_GCS_WGS84.txt"
   ]
  },
  {
   "cell_type": "code",
   "execution_count": 41,
   "metadata": {},
   "outputs": [],
   "source": [
    "dat = requests.get('https://pubs.usgs.gov/ds/91/4_DATA/ASCII_GIS_DATA/slab_contours_GCS_WGS84.txt').text"
   ]
  },
  {
   "cell_type": "code",
   "execution_count": null,
   "metadata": {},
   "outputs": [],
   "source": [
    "geojson.LineString(coordinates=)"
   ]
  },
  {
   "cell_type": "code",
   "execution_count": 105,
   "metadata": {},
   "outputs": [],
   "source": [
    "features = []\n",
    "for block in dat.split('END'):\n",
    "    lines = block.split('\\r')\n",
    "    coords = []\n",
    "    for line in lines:\n",
    "        try:\n",
    "            coord = (float(line.split()[1]),float(line.split()[0]))\n",
    "            if coord:\n",
    "                coords.append(coord)\n",
    "                tag = float(line.split()[2])\n",
    "        except:\n",
    "            pass\n",
    "    if coords:\n",
    "        #print(coords)\n",
    "        l_str = geojson.LineString(coordinates = coords)\n",
    "        feature = geojson.Feature(geometry=l_str,properties={'depth' : str(tag)})\n",
    "        features.append(feature)\n",
    "        \n",
    "f_collection = geojson.FeatureCollection(features)\n",
    "    \n",
    "    \n"
   ]
  },
  {
   "cell_type": "code",
   "execution_count": 106,
   "metadata": {},
   "outputs": [],
   "source": [
    "with open('test.geojson','w') as geofile:\n",
    "    geojson.dump(f_collection, geofile,indent=4, sort_keys=True)\n"
   ]
  },
  {
   "cell_type": "code",
   "execution_count": 102,
   "metadata": {},
   "outputs": [
    {
     "data": {
      "text/plain": [
       "(38.98736, -121.52941)"
      ]
     },
     "execution_count": 102,
     "metadata": {},
     "output_type": "execute_result"
    }
   ],
   "source": [
    "#dat.split('END')\n",
    "coord"
   ]
  },
  {
   "cell_type": "code",
   "execution_count": 3,
   "metadata": {},
   "outputs": [
    {
     "name": "stderr",
     "output_type": "stream",
     "text": [
      "C:\\Users\\mheesema\\AppData\\Local\\Continuum\\anaconda3\\envs\\work3\\lib\\site-packages\\pysal\\model\\spvcm\\abstracts.py:10: UserWarning: The `dill` module is required to use the sqlite backend fully.\n",
      "  from .sqlite import head_to_sql, start_sql\n"
     ]
    }
   ],
   "source": [
    "import georasters as gr"
   ]
  },
  {
   "cell_type": "code",
   "execution_count": 4,
   "metadata": {},
   "outputs": [
    {
     "data": {
      "text/plain": [
       "<matplotlib.axes._subplots.AxesSubplot at 0x28f5f5093c8>"
      ]
     },
     "execution_count": 4,
     "metadata": {},
     "output_type": "execute_result"
    },
    {
     "data": {
      "image/png": "[encoded data removed]",
      "text/plain": [
       "<Figure size 432x288 with 1 Axes>"
      ]
     },
     "metadata": {
      "needs_background": "light"
     },
     "output_type": "display_data"
    }
   ],
   "source": [
    "#gmrt = gr.from_file('D:/Backup/Documents/Maps/Bathymetry/GMRTv3_2_20161001topo.tif')\n",
    "#https://www.gmrt.org/services/GridServer?minlongitude=-128&maxlongitude=-125&minlatitude=47.5&maxlatitude=49.5&format=geotiff&resolution=default&mresolution=10&layer=topo\n",
    "\n",
    "raster = 'G:/My Drive/Archive/W540-Downloads/GMRTv3_6_20190410topo.tif'\n",
    "#raster = 'D:/Backup/Documents/Maps/NCSZO/Thomson_WGS84.tif'\n",
    "gmrt = gr.from_file(raster)\n",
    "gmrt.plot()\n"
   ]
  },
  {
   "cell_type": "code",
   "execution_count": 111,
   "metadata": {},
   "outputs": [],
   "source": [
    "gmrts = gmrt.extract(-126.87,48.66,radius=1.0)"
   ]
  },
  {
   "cell_type": "code",
   "execution_count": 119,
   "metadata": {},
   "outputs": [
    {
     "data": {
      "text/plain": [
       "-1346.8833"
      ]
     },
     "execution_count": 119,
     "metadata": {},
     "output_type": "execute_result"
    }
   ],
   "source": [
    "gmrt.map_pixel(-126.87,48.66)\n"
   ]
  },
  {
   "cell_type": "code",
   "execution_count": 138,
   "metadata": {},
   "outputs": [
    {
     "name": "stdout",
     "output_type": "stream",
     "text": [
      "(690, 684)\n",
      "(-128.00610673270498, 47.494963302421894, -124.99584639229502, 49.50669419550329)\n"
     ]
    }
   ],
   "source": [
    "print(gmrt.shape)\n",
    "print(gmrt.bounds)\n"
   ]
  },
  {
   "cell_type": "code",
   "execution_count": 135,
   "metadata": {},
   "outputs": [
    {
     "name": "stdout",
     "output_type": "stream",
     "text": [
      "222.08816498957617\n"
     ]
    },
    {
     "data": {
      "text/plain": [
       "0.3203463203463203"
      ]
     },
     "execution_count": 135,
     "metadata": {},
     "output_type": "execute_result"
    }
   ],
   "source": [
    "print((gmrts.bounds[2]-gmrts.bounds[0])*111)\n",
    "222/693"
   ]
  },
  {
   "cell_type": "code",
   "execution_count": 158,
   "metadata": {},
   "outputs": [
    {
     "data": {
      "text/plain": [
       "(None,\n",
       " 684,\n",
       " 690,\n",
       " (-128.00610673270498,\n",
       "  0.004400965409956076,\n",
       "  0.0,\n",
       "  49.50669419550329,\n",
       "  0.0,\n",
       "  -0.0029155520189585444),\n",
       " <osgeo.osr.SpatialReference; proxy of <Swig Object of type 'OSRSpatialReferenceShadow *' at 0x000001B6AB66CD20> >,\n",
       " 'Float32')"
      ]
     },
     "execution_count": 158,
     "metadata": {},
     "output_type": "execute_result"
    }
   ],
   "source": [
    "gr.get_geo_info(raster)\n"
   ]
  },
  {
   "cell_type": "code",
   "execution_count": 161,
   "metadata": {},
   "outputs": [
    {
     "ename": "AttributeError",
     "evalue": "'int' object has no attribute 'start'",
     "output_type": "error",
     "traceback": [
      "\u001b[1;31m---------------------------------------------------------------------------\u001b[0m",
      "\u001b[1;31mAttributeError\u001b[0m                            Traceback (most recent call last)",
      "\u001b[1;32m<ipython-input-161-5d00a1d14e89>\u001b[0m in \u001b[0;36m<module>\u001b[1;34m\u001b[0m\n\u001b[1;32m----> 1\u001b[1;33m \u001b[0mgmrt\u001b[0m\u001b[1;33m[\u001b[0m\u001b[1;36m0\u001b[0m\u001b[1;33m,\u001b[0m\u001b[1;36m0\u001b[0m\u001b[1;33m]\u001b[0m\u001b[1;33m\u001b[0m\u001b[1;33m\u001b[0m\u001b[0m\n\u001b[0m",
      "\u001b[1;32m~\\AppData\\Local\\Continuum\\anaconda3\\envs\\work3\\lib\\site-packages\\georasters\\georasters.py\u001b[0m in \u001b[0;36m__getitem__\u001b[1;34m(self, indx)\u001b[0m\n\u001b[0;32m    285\u001b[0m         \u001b[0mdatatype\u001b[0m \u001b[1;33m=\u001b[0m \u001b[0mself\u001b[0m\u001b[1;33m.\u001b[0m\u001b[0mdatatype\u001b[0m\u001b[1;33m\u001b[0m\u001b[1;33m\u001b[0m\u001b[0m\n\u001b[0;32m    286\u001b[0m         \u001b[0mgeot\u001b[0m \u001b[1;33m=\u001b[0m \u001b[0mlist\u001b[0m\u001b[1;33m(\u001b[0m\u001b[0mself\u001b[0m\u001b[1;33m.\u001b[0m\u001b[0mgeot\u001b[0m\u001b[1;33m)\u001b[0m\u001b[1;33m\u001b[0m\u001b[1;33m\u001b[0m\u001b[0m\n\u001b[1;32m--> 287\u001b[1;33m         \u001b[0mgeot\u001b[0m\u001b[1;33m[\u001b[0m\u001b[1;36m0\u001b[0m\u001b[1;33m]\u001b[0m \u001b[1;33m+=\u001b[0m \u001b[0mindx\u001b[0m\u001b[1;33m[\u001b[0m\u001b[1;36m0\u001b[0m\u001b[1;33m]\u001b[0m\u001b[1;33m.\u001b[0m\u001b[0mstart\u001b[0m\u001b[1;33m*\u001b[0m\u001b[0mgeot\u001b[0m\u001b[1;33m[\u001b[0m\u001b[1;36m1\u001b[0m\u001b[1;33m]\u001b[0m\u001b[1;33m\u001b[0m\u001b[1;33m\u001b[0m\u001b[0m\n\u001b[0m\u001b[0;32m    288\u001b[0m         \u001b[0mgeot\u001b[0m\u001b[1;33m[\u001b[0m\u001b[1;36m3\u001b[0m\u001b[1;33m]\u001b[0m \u001b[1;33m+=\u001b[0m \u001b[0mindx\u001b[0m\u001b[1;33m[\u001b[0m\u001b[1;36m1\u001b[0m\u001b[1;33m]\u001b[0m\u001b[1;33m.\u001b[0m\u001b[0mstart\u001b[0m\u001b[1;33m*\u001b[0m\u001b[0mgeot\u001b[0m\u001b[1;33m[\u001b[0m\u001b[1;33m-\u001b[0m\u001b[1;36m1\u001b[0m\u001b[1;33m]\u001b[0m\u001b[1;33m\u001b[0m\u001b[1;33m\u001b[0m\u001b[0m\n\u001b[0;32m    289\u001b[0m         \u001b[0mgeot\u001b[0m \u001b[1;33m=\u001b[0m \u001b[0mtuple\u001b[0m\u001b[1;33m(\u001b[0m\u001b[0mgeot\u001b[0m\u001b[1;33m)\u001b[0m\u001b[1;33m\u001b[0m\u001b[1;33m\u001b[0m\u001b[0m\n",
      "\u001b[1;31mAttributeError\u001b[0m: 'int' object has no attribute 'start'"
     ]
    }
   ],
   "source": [
    "gmrt[0,0]"
   ]
  },
  {
   "cell_type": "code",
   "execution_count": 190,
   "metadata": {},
   "outputs": [
    {
     "data": {
      "text/plain": [
       "array([515, 225])"
      ]
     },
     "execution_count": 190,
     "metadata": {},
     "output_type": "execute_result"
    }
   ],
   "source": [
    "gmrt.map_pixel_location(-127.0114885500549, 48.002269353720685)\n",
    "#gmrt.map_pixel_location(-128.00610673270498, 49.50669419550329)"
   ]
  },
  {
   "cell_type": "code",
   "execution_count": 168,
   "metadata": {},
   "outputs": [
    {
     "data": {
      "text/plain": [
       "(-128.00610673270498,\n",
       " 47.494963302421894,\n",
       " -124.99584639229502,\n",
       " 49.50669419550329)"
      ]
     },
     "execution_count": 168,
     "metadata": {},
     "output_type": "execute_result"
    }
   ],
   "source": [
    "gmrt.bounds"
   ]
  },
  {
   "cell_type": "code",
   "execution_count": 177,
   "metadata": {},
   "outputs": [
    {
     "data": {
      "text/plain": [
       "(-127.0114885500549, 48.002269353720685)"
      ]
     },
     "execution_count": 177,
     "metadata": {},
     "output_type": "execute_result"
    }
   ],
   "source": [
    "(gmrt.bounds[0]+226*gmrt.x_cell_size,gmrt.bounds[3]+516*gmrt.y_cell_size)"
   ]
  },
  {
   "cell_type": "code",
   "execution_count": 189,
   "metadata": {},
   "outputs": [
    {
     "data": {
      "text/plain": [
       "(-128.00610673270498,\n",
       " 0.004400965409956076,\n",
       " 49.50669419550329,\n",
       " -0.0029155520189585444)"
      ]
     },
     "execution_count": 189,
     "metadata": {},
     "output_type": "execute_result"
    }
   ],
   "source": [
    "(gmrt.bounds[0], gmrt.x_cell_size,gmrt.bounds[3], gmrt.y_cell_size)"
   ]
  },
  {
   "cell_type": "code",
   "execution_count": 178,
   "metadata": {},
   "outputs": [
    {
     "data": {
      "text/plain": [
       "-2541.1448"
      ]
     },
     "execution_count": 178,
     "metadata": {},
     "output_type": "execute_result"
    }
   ],
   "source": [
    "gmrt.map_pixel(-127.0114885500549, 48.002269353720685)"
   ]
  },
  {
   "cell_type": "code",
   "execution_count": 184,
   "metadata": {},
   "outputs": [
    {
     "data": {
      "text/plain": [
       "-2405.7412"
      ]
     },
     "execution_count": 184,
     "metadata": {},
     "output_type": "execute_result"
    }
   ],
   "source": [
    "gmrt.raster[0,0]"
   ]
  },
  {
   "cell_type": "markdown",
   "metadata": {},
   "source": [
    "For equilateral triangles with side length $s$ the radius of the circumcircle is given by the formula:\n",
    "$ r = s/\\sqrt{3} $ [see](https://www.mathopenref.com/trianglecircumcircle.html)\n",
    "\n",
    "Therefore, if the transponders are to be located on a circle with the radius of the waterdepth z, the length of the triangle is $s = z \\sqrt{3}$\n",
    "\n"
   ]
  },
  {
   "cell_type": "code",
   "execution_count": 5,
   "metadata": {},
   "outputs": [],
   "source": [
    "import numpy as np"
   ]
  },
  {
   "cell_type": "code",
   "execution_count": 85,
   "metadata": {},
   "outputs": [],
   "source": [
    "g = Geod(ellps='WGS84')\n",
    "def getStationQuality(lon = -126.6960, lat = 48.8109, manual= True):\n",
    "    d_r = 250. \n",
    "\n",
    "    # define centre index\n",
    "    #x=100\n",
    "    #y=100\n",
    "    #(y,x) = gmrt.map_pixel_location(-126.888262, 48.675762)\n",
    "\n",
    "    # Get coordinates\n",
    "    p_0 ={}\n",
    "    #p_0['lon'] = gmrt.bounds[0]+x*gmrt.x_cell_size\n",
    "    #p_0['lat'] = gmrt.bounds[3]+y*gmrt.y_cell_size\n",
    "    #z_0 = gmrt.raster[x,y]\n",
    "\n",
    "    (p_0['lon'], p_0['lat']) = (lon,lat)\n",
    "\n",
    "    z_0 = gmrt.map_pixel(p_0['lon'],p_0['lat'])\n",
    "\n",
    "    d_phi = abs(360 / (2 * np.pi * z_0 / d_r))\n",
    "    phis = np.arange(0.,360.,d_phi)\n",
    "    \n",
    "    ones = np.ones(phis.shape)\n",
    "\n",
    "    #g.fwd([-127.0114885500549,-127.0114885500549], [48.002269353720685,48.002269353720685],[0,30],[1200.,1200.])\n",
    "    p_1 = {}\n",
    "    p_2 = {}\n",
    "    [p_1['lons'],p_1['lats'],_] = g.fwd(ones*p_0['lon'], ones*p_0['lat'],phis,ones*z_0*np.sqrt(3))\n",
    "    z1s = gmrt.map_pixel(p_1['lons'],p_1['lats'])\n",
    "    [p_2['lons'],p_2['lats'],_] = g.fwd(ones*p_0['lon'], ones*p_0['lat'],phis+60.,ones*z_0*np.sqrt(3))\n",
    "    z2s = gmrt.map_pixel(p_2['lons'],p_2['lats'])\n",
    "\n",
    "    max_diff = np.max(np.array([np.abs(z1s-z_0),np.abs(z2s-z_0)]),0)\n",
    "    \n",
    "    if manual:\n",
    "        print(p_0, z_0, d_phi)\n",
    "        print(gmrt.map_pixel(p_0['lon'],p_0['lat']))\n",
    "        print(gmrt.map_pixel_location(p_0['lon'],p_0['lat']))\n",
    "        best = np.argmin(max_diff)\n",
    "        fig=plt.figure(1)\n",
    "        fig.clf()\n",
    "        ax = plt.gca()\n",
    "        max_diff[max_diff > 3000] = np.nan\n",
    "        plt.plot(phis,max_diff)\n",
    "        plt.plot(phis[best],max_diff[best],'ko')\n",
    "        plt.plot(phis,z1s-z_0)\n",
    "        plt.plot(phis,z2s-z_0)\n",
    "        plt.grid(True)\n",
    "        #ax.set_ylim(-50,50)\n",
    "\n",
    "        print(max_diff[best])\n",
    "        print(4*'%f, %f,\\n' % (p_0['lon'],p_0['lat'],\n",
    "                              p_1['lons'][best],p_1['lats'][best],\n",
    "                              p_2['lons'][best],p_2['lats'][best],\n",
    "                              np.mean([p_0['lon'],p_1['lons'][best],p_2['lons'][best]]),\n",
    "                              np.mean([p_0['lat'],p_1['lats'][best],p_2['lats'][best]])))\n",
    "    return np.min(max_diff)"
   ]
  },
  {
   "cell_type": "code",
   "execution_count": 91,
   "metadata": {},
   "outputs": [
    {
     "name": "stdout",
     "output_type": "stream",
     "text": [
      "{'lon': -127.1148, 'lat': 49.0115} -1651.7738 8.671856186416\n",
      "-1651.7738\n",
      "[169 202]\n",
      "2.6888428\n",
      "-127.114800, 49.011500,\n",
      "-127.125082, 49.036321,\n",
      "-127.087250, 49.029762,\n",
      "-127.109044, 49.025861,\n",
      "\n",
      "Wall time: 23 ms\n"
     ]
    },
    {
     "data": {
      "text/plain": [
       "2.6888428"
      ]
     },
     "execution_count": 91,
     "metadata": {},
     "output_type": "execute_result"
    },
    {
     "data": {
      "image/png": "[encoded data removed]",
      "text/plain": [
       "<Figure size 432x288 with 1 Axes>"
      ]
     },
     "metadata": {
      "needs_background": "light"
     },
     "output_type": "display_data"
    }
   ],
   "source": [
    "%%time\n",
    "getStationQuality(-127.1148,49.0115, manual = True)"
   ]
  },
  {
   "cell_type": "code",
   "execution_count": 246,
   "metadata": {},
   "outputs": [
    {
     "data": {
      "text/plain": [
       "25"
      ]
     },
     "execution_count": 246,
     "metadata": {},
     "output_type": "execute_result"
    }
   ],
   "source": [
    "np.argmin(np.max(np.array([np.abs(z1s-z_0),np.abs(z2s-z_0)]),0))"
   ]
  },
  {
   "cell_type": "markdown",
   "metadata": {},
   "source": [
    "x,y"
   ]
  },
  {
   "cell_type": "code",
   "execution_count": 79,
   "metadata": {},
   "outputs": [],
   "source": [
    "mygrd = gmrt.copy()\n",
    "mygrd.raster[:] = np.nan\n",
    "mygrd.nodata_value = np.nan\n"
   ]
  },
  {
   "cell_type": "code",
   "execution_count": 80,
   "metadata": {},
   "outputs": [
    {
     "name": "stderr",
     "output_type": "stream",
     "text": [
      "C:\\Users\\mheesema\\AppData\\Local\\Continuum\\anaconda3\\envs\\work3\\lib\\site-packages\\ipykernel_launcher.py:7: RuntimeWarning: invalid value encountered in greater\n",
      "  import sys\n",
      "C:\\Users\\mheesema\\AppData\\Local\\Continuum\\anaconda3\\envs\\work3\\lib\\site-packages\\ipykernel_launcher.py:7: RuntimeWarning: invalid value encountered in less\n",
      "  import sys\n"
     ]
    }
   ],
   "source": [
    "count = 0\n",
    "for lon in np.arange(gmrt.bounds[0],gmrt.bounds[2],gmrt.x_cell_size): #gmrt.x_cell_size\n",
    "    for lat in np.arange(gmrt.bounds[1],gmrt.bounds[3],-gmrt.y_cell_size): # -gmrt.y_cell_size\n",
    "        #qual = getStationQuality(lon, lat, manual = False)\n",
    "        try:\n",
    "            z = gmrt.map_pixel(lon, lat)\n",
    "            if z > -800 or z < -2300:\n",
    "                # to deep or shallow to be interesting\n",
    "                continue\n",
    "            #print(z)\n",
    "            (x,y) = gmrt.map_pixel_location(lon, lat)\n",
    "            #print(x,y)\n",
    "            qual = getStationQuality(lon, lat, manual = False)\n",
    "            #print(qual)\n",
    "            if np.isfinite(qual) and qual < 30:\n",
    "                mygrd.raster[x,y] = qual\n",
    "                count += 1\n",
    "        except:\n",
    "            pass\n",
    "            #print(lon, lat)\n",
    "        \n",
    "#print(gmrt.raster[347, 454])\n",
    "#print(gmrt.map_pixel(-126.00610673270498, 48.494963302421894))\n",
    "#gmrt.map_pixel(-126.00610673270498, 48.494963302421894)"
   ]
  },
  {
   "cell_type": "code",
   "execution_count": 87,
   "metadata": {},
   "outputs": [
    {
     "data": {
      "text/plain": [
       "63608"
      ]
     },
     "execution_count": 87,
     "metadata": {},
     "output_type": "execute_result"
    },
    {
     "data": {
      "image/png": "[encoded data removed]",
      "text/plain": [
       "<Figure size 432x288 with 1 Axes>"
      ]
     },
     "metadata": {
      "needs_background": "light"
     },
     "output_type": "display_data"
    }
   ],
   "source": [
    "mygrd.plot()\n",
    "count\n",
    "\n"
   ]
  },
  {
   "cell_type": "code",
   "execution_count": 88,
   "metadata": {},
   "outputs": [],
   "source": [
    "mygrd.to_tiff('StationQuality.tif')"
   ]
  },
  {
   "cell_type": "code",
   "execution_count": 65,
   "metadata": {},
   "outputs": [
    {
     "data": {
      "text/plain": [
       "True"
      ]
     },
     "execution_count": 65,
     "metadata": {},
     "output_type": "execute_result"
    }
   ],
   "source": [
    "np.all(np.isfinite(mygrd.raster.data))\n"
   ]
  },
  {
   "cell_type": "code",
   "execution_count": 71,
   "metadata": {},
   "outputs": [],
   "source": [
    "mygrd.nodata_value = np.nan"
   ]
  }
 ],
 "metadata": {
  "kernelspec": {
   "display_name": "Python 3",
   "language": "python",
   "name": "python3"
  },
  "language_info": {
   "codemirror_mode": {
    "name": "ipython",
    "version": 3
   },
   "file_extension": ".py",
   "mimetype": "text/x-python",
   "name": "python",
   "nbconvert_exporter": "python",
   "pygments_lexer": "ipython3",
   "version": "3.7.1"
  }
 },
 "nbformat": 4,
 "nbformat_minor": 2
}
