{
 "cells": [
  {
   "cell_type": "markdown",
   "metadata": {},
   "source": [
    "# Welcome to an example Binder"
   ]
  },
  {
   "cell_type": "markdown",
   "metadata": {},
   "source": [
    "This notebook uses `seaborn`, which we have because we included it in our `requirements.txt` file"
   ]
  },
  {
   "cell_type": "markdown",
   "metadata": {},
   "source": [
    "## Setup our plotting"
   ]
  },
  {
   "cell_type": "code",
   "execution_count": 1,
   "metadata": {},
   "outputs": [],
   "source": [
    "%matplotlib inline\n",
    "import matplotlib.pyplot as plt\n",
    "import seaborn as sns"
   ]
  },
  {
   "cell_type": "markdown",
   "metadata": {},
   "source": [
    "## Setup our imports"
   ]
  },
  {
   "cell_type": "code",
   "execution_count": 3,
   "metadata": {},
   "outputs": [],
   "source": [
    "from pyproj import Geod\n",
    "import geojson"
   ]
  },
  {
   "cell_type": "code",
   "execution_count": 4,
   "metadata": {},
   "outputs": [],
   "source": [
    "sites = {\n",
    "    'CORK 1364A' : {'lon' : -126.872152, 'lat': 48.699937, 'depth': 1317.7},\n",
    "}"
   ]
  },
  {
   "cell_type": "markdown",
   "metadata": {},
   "source": [
    "## Setup pyproj\n",
    "[see](http://pyproj4.github.io/pyproj/html/api/geod.html)\n"
   ]
  },
  {
   "cell_type": "code",
   "execution_count": null,
   "metadata": {},
   "outputs": [],
   "source": [
    "g = Geod(ellps='WGS84')\n",
    "s = sites['CORK 1364A']\n",
    "\n"
   ]
  },
  {
   "cell_type": "markdown",
   "metadata": {},
   "source": [
    "# Plate motion\n",
    "Plate motions are calculated using [UNAVCO Plate Motion Calculator](https://www.unavco.org/software/geodetic-utilities/plate-motion-calculator/plate-motion-calculator.html)\n",
    "\n",
    "Input coordinates:\n",
    "\n",
    "    -127.157 48.25721 -2500 #1,\n",
    "    -127.639 48.79599 -2500 #8,\n",
    "    -126.8722 48.6999 1200 CORK 1364A,\n",
    "    -126.1733 48.4278 400 BC-US,\n",
    "    -125.8918 49.2267 0 CQS-Shore,\n",
    "    -127.345 48.90984 -1200 #9\n",
    "\n",
    "* Model GSRM 2.1 (2014)\n",
    "* Plate motion (JdF)\n",
    "* Relative to NA\n",
    "\n",
    "Results:\n",
    "\n",
    "    -127.157000  48.257210   31.61   26.59 0 0 0 JF(NA) GSRM v2.1 #1\n",
    "    -127.639000  48.795990   32.56   27.45 0 0 0 JF(NA) GSRM v2.1 #8\n",
    "    -126.872200  48.699900   32.65   26.09 0 0 0 JF(NA) GSRM v2.1 CORK 1364A\n",
    "    -126.173300  48.427800   32.31   24.83 0 0 0 JF(NA) GSRM v2.1 BC-US\n",
    "    -125.891800  49.226700   34.06   24.32 0 0 0 JF(NA) GSRM v2.1 CQS-Shore\n",
    "    -127.345000  48.909840   32.91   26.93 0 0 0 JF(NA) GSRM v2.1 #9\n",
    "\n",
    "\n"
   ]
  },
  {
   "cell_type": "code",
   "execution_count": 4,
   "metadata": {},
   "outputs": [
    {
     "data": {
      "image/png": "[encoded data removed]",
      "text/plain": [
       "<matplotlib.figure.Figure at 0x1043dc290>"
      ]
     },
     "metadata": {},
     "output_type": "display_data"
    }
   ],
   "source": [
    "n_start = g.fwd()"
   ]
  }
 ],
 "metadata": {
  "kernelspec": {
   "display_name": "Python 3",
   "language": "python",
   "name": "python3"
  },
  "language_info": {
   "codemirror_mode": {
    "name": "ipython",
    "version": 3
   },
   "file_extension": ".py",
   "mimetype": "text/x-python",
   "name": "python",
   "nbconvert_exporter": "python",
   "pygments_lexer": "ipython3",
   "version": "3.6.7"
  }
 },
 "nbformat": 4,
 "nbformat_minor": 1
}
